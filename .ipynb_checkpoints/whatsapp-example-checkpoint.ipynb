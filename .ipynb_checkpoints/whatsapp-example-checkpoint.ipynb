{
 "cells": [
  {
   "cell_type": "code",
   "execution_count": 1,
   "metadata": {
    "scrolled": false
   },
   "outputs": [
    {
     "name": "stdout",
     "output_type": "stream",
     "text": [
      "Requirement already satisfied: keyboard in c:\\users\\vinod\\appdata\\local\\programs\\python\\python39\\lib\\site-packages (0.13.5)\n",
      "Requirement already satisfied: pywhatkit in c:\\users\\vinod\\appdata\\local\\programs\\python\\python39\\lib\\site-packages (5.2)\n",
      "Requirement already satisfied: pyautogui in c:\\users\\vinod\\appdata\\local\\programs\\python\\python39\\lib\\site-packages (from pywhatkit) (0.9.53)\n",
      "Requirement already satisfied: Pillow in c:\\users\\vinod\\appdata\\local\\programs\\python\\python39\\lib\\site-packages (from pywhatkit) (8.0.1)\n",
      "Requirement already satisfied: requests in c:\\users\\vinod\\appdata\\local\\programs\\python\\python39\\lib\\site-packages (from pywhatkit) (2.25.0)\n",
      "Requirement already satisfied: wikipedia in c:\\users\\vinod\\appdata\\local\\programs\\python\\python39\\lib\\site-packages (from pywhatkit) (1.4.0)\n",
      "Requirement already satisfied: PyTweening>=1.0.1 in c:\\users\\vinod\\appdata\\local\\programs\\python\\python39\\lib\\site-packages (from pyautogui->pywhatkit) (1.0.4)\n",
      "Requirement already satisfied: pygetwindow>=0.0.5 in c:\\users\\vinod\\appdata\\local\\programs\\python\\python39\\lib\\site-packages (from pyautogui->pywhatkit) (0.0.9)\n",
      "Requirement already satisfied: mouseinfo in c:\\users\\vinod\\appdata\\local\\programs\\python\\python39\\lib\\site-packages (from pyautogui->pywhatkit) (0.1.3)\n",
      "Requirement already satisfied: pymsgbox in c:\\users\\vinod\\appdata\\local\\programs\\python\\python39\\lib\\site-packages (from pyautogui->pywhatkit) (1.0.9)\n",
      "Requirement already satisfied: pyscreeze>=0.1.21 in c:\\users\\vinod\\appdata\\local\\programs\\python\\python39\\lib\\site-packages (from pyautogui->pywhatkit) (0.1.28)\n",
      "Requirement already satisfied: idna<3,>=2.5 in c:\\users\\vinod\\appdata\\local\\programs\\python\\python39\\lib\\site-packages (from requests->pywhatkit) (2.10)\n",
      "Requirement already satisfied: urllib3<1.27,>=1.21.1 in c:\\users\\vinod\\appdata\\local\\programs\\python\\python39\\lib\\site-packages (from requests->pywhatkit) (1.26.2)\n",
      "Requirement already satisfied: chardet<4,>=3.0.2 in c:\\users\\vinod\\appdata\\local\\programs\\python\\python39\\lib\\site-packages (from requests->pywhatkit) (3.0.4)\n",
      "Requirement already satisfied: certifi>=2017.4.17 in c:\\users\\vinod\\appdata\\local\\programs\\python\\python39\\lib\\site-packages (from requests->pywhatkit) (2020.11.8)\n",
      "Requirement already satisfied: beautifulsoup4 in c:\\users\\vinod\\appdata\\local\\programs\\python\\python39\\lib\\site-packages (from wikipedia->pywhatkit) (4.10.0)\n",
      "Requirement already satisfied: pyrect in c:\\users\\vinod\\appdata\\local\\programs\\python\\python39\\lib\\site-packages (from pygetwindow>=0.0.5->pyautogui->pywhatkit) (0.1.4)\n",
      "Requirement already satisfied: soupsieve>1.2 in c:\\users\\vinod\\appdata\\local\\programs\\python\\python39\\lib\\site-packages (from beautifulsoup4->wikipedia->pywhatkit) (2.3.1)\n",
      "Requirement already satisfied: pyperclip in c:\\users\\vinod\\appdata\\local\\programs\\python\\python39\\lib\\site-packages (from mouseinfo->pyautogui->pywhatkit) (1.8.2)\n"
     ]
    }
   ],
   "source": [
    "!pip3 install keyboard\n",
    "!pip3 install pywhatkit"
   ]
  },
  {
   "cell_type": "code",
   "execution_count": 4,
   "metadata": {},
   "outputs": [],
   "source": [
    "import time\n",
    "import keyboard\n",
    "import pywhatkit as pwt\n",
    "\n",
    "pwt.sendwhatmsg_instantly(\"+919819780227\", \"WELCOME\", 5)\n",
    "time.sleep(1)\n",
    "keyboard.press_and_release('ctrl+w')"
   ]
  }
 ],
 "metadata": {
  "kernelspec": {
   "display_name": "Python 3",
   "language": "python",
   "name": "python3"
  },
  "language_info": {
   "codemirror_mode": {
    "name": "ipython",
    "version": 3
   },
   "file_extension": ".py",
   "mimetype": "text/x-python",
   "name": "python",
   "nbconvert_exporter": "python",
   "pygments_lexer": "ipython3",
   "version": "3.9.0"
  }
 },
 "nbformat": 4,
 "nbformat_minor": 4
}
